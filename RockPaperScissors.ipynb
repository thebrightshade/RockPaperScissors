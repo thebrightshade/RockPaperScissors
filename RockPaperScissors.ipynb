{
 "cells": [
  {
   "cell_type": "code",
   "execution_count": 32,
   "metadata": {},
   "outputs": [],
   "source": [
    "import random"
   ]
  },
  {
   "cell_type": "code",
   "execution_count": 33,
   "metadata": {},
   "outputs": [
    {
     "name": "stdout",
     "output_type": "stream",
     "text": [
      "Please select one: Rock(R), Paper(P) or Scissors(S): d\n"
     ]
    }
   ],
   "source": [
    "player1 = (input(\"Please select one: Rock(R), Paper(P) or Scissors(S): \")).upper()\n",
    "\n",
    "player2 = random.sample({\"R\", \"P\", \"S\"}, 1)"
   ]
  },
  {
   "cell_type": "code",
   "execution_count": 34,
   "metadata": {},
   "outputs": [],
   "source": [
    "def compare(p1, p2):\n",
    "    if p1 == \"S\" or p1 == \"SCISSORS\":\n",
    "        if p2[0] == \"R\":\n",
    "            print(\"You lose! Rock beats scissors.\")\n",
    "            replay = input(\"Do you want to play again (Y/N)? \").upper()\n",
    "            if replay == \"Y\":\n",
    "                p1 = (input(\"Please select one: Rock(R), Paper(P) or Scissors(S): \")).upper()\n",
    "                p2 = random.sample({\"R\", \"P\", \"S\"}, 1)\n",
    "                compare(p1,p2)\n",
    "            \n",
    "        elif p2[0] == \"P\":\n",
    "            print(\"You win! Scissors beats paper.\")\n",
    "            replay = input(\"Do you want to play again (Y/N)? \").upper()\n",
    "            if replay == \"Y\":\n",
    "                p1 = (input(\"Please select one: Rock(R), Paper(P) or Scissors(S): \")).upper()\n",
    "                p2 = random.sample({\"R\", \"P\", \"S\"}, 1)\n",
    "                compare(p1,p2)\n",
    "                \n",
    "        elif p2[0] == \"S\":\n",
    "            print(\"Let's try again, you and I, both have scissors\")\n",
    "            p1 = (input(\"Please select one: Rock(R), Paper(P) or Scissors(S): \")).upper()\n",
    "            p2 = random.sample({\"R\", \"P\", \"S\"}, 1)\n",
    "            compare(p1,p2)\n",
    "\n",
    "    elif p1 == \"R\" or p1 == \"ROCK\":\n",
    "        if p2[0] == \"P\":\n",
    "            print(\"You lose! Paper beats rock.\")\n",
    "            replay = input(\"Do you want to play again (Y/N)? \").upper()\n",
    "            if replay == \"Y\":\n",
    "                p1 = (input(\"Please select one: Rock(R), Paper(P) or Scissors(S): \")).upper()\n",
    "                p2 = random.sample({\"R\", \"P\", \"S\"}, 1)\n",
    "                compare(p1,p2)\n",
    "            \n",
    "        elif p2[0] == \"S\":\n",
    "            print(\"You win! Rock beats scissors.\")\n",
    "            replay = input(\"Do you want to play again (Y/N)? \").upper()\n",
    "            if replay == \"Y\":\n",
    "                p1 = (input(\"Please select one: Rock(R), Paper(P) or Scissors(S): \")).upper()\n",
    "                p2 = random.sample({\"R\", \"P\", \"S\"}, 1)\n",
    "                compare(p1,p2)\n",
    "            \n",
    "        elif p2[0] == \"R\":\n",
    "            print(\"Let's try again, you and I, both have rock\")\n",
    "            p1 = (input(\"Please select one: Rock(R), Paper(P) or Scissors(S): \")).upper()\n",
    "            p2 = random.sample({\"R\", \"P\", \"S\"}, 1)\n",
    "            compare(p1, p2)\n",
    "\n",
    "    elif p1 == \"P\" or p1 == \"PAPER\":\n",
    "        if p2[0] == \"S\":\n",
    "            print(\"You lose! Scissors beats paper.\")\n",
    "            replay = input(\"Do you want to play again (Y/N)? \").upper()\n",
    "            if replay == \"Y\":\n",
    "                p1 = (input(\"Please select one: Rock(R), Paper(P) or Scissors(S): \")).upper()\n",
    "                p2 = random.sample({\"R\", \"P\", \"S\"}, 1)\n",
    "                compare(p1,p2)\n",
    "            \n",
    "        elif p2[0] == \"R\":\n",
    "            print(\"You win! Paper beats rock.\")\n",
    "            replay = input(\"Do you want to play again (Y/N)? \").upper()\n",
    "            if replay == \"Y\":\n",
    "                p1 = (input(\"Please select one: Rock(R), Paper(P) or Scissors(S): \")).upper()\n",
    "                p2 = random.sample({\"R\", \"P\", \"S\"}, 1)\n",
    "                compare(p1,p2)\n",
    "            \n",
    "        elif p2[0] == \"P\":\n",
    "            print(\"Let's try again, you and I, both have paper\")\n",
    "            p1 = (input(\"Please select one: Rock(R), Paper(P) or Scissors(S): \")).upper()\n",
    "            p2 = random.sample({\"R\", \"P\", \"S\"}, 1)\n",
    "            compare(p1, p2)\n",
    "    else:\n",
    "        print('You did not type a correct response!')\n",
    "        player1 = (input(\"Please select one: Rock(R), Paper(P) or Scissors(S): \")).upper()\n",
    "        compare(player1, player2)"
   ]
  },
  {
   "cell_type": "code",
   "execution_count": 35,
   "metadata": {},
   "outputs": [
    {
     "name": "stdout",
     "output_type": "stream",
     "text": [
      "You did not type a correct response!\n",
      "Please select one: Rock(R), Paper(P) or Scissors(S): s\n",
      "You win! Scissors beats paper.\n",
      "Do you want to play again (Y/N)? y\n",
      "Please select one: Rock(R), Paper(P) or Scissors(S): p\n",
      "You lose! Scissors beats paper.\n",
      "Do you want to play again (Y/N)? y\n",
      "Please select one: Rock(R), Paper(P) or Scissors(S): s\n",
      "You lose! Rock beats scissors.\n",
      "Do you want to play again (Y/N)? n\n"
     ]
    }
   ],
   "source": [
    "compare(player1, player2)"
   ]
  },
  {
   "cell_type": "code",
   "execution_count": null,
   "metadata": {},
   "outputs": [],
   "source": []
  }
 ],
 "metadata": {
  "kernelspec": {
   "display_name": "Python 3",
   "language": "python",
   "name": "python3"
  },
  "language_info": {
   "codemirror_mode": {
    "name": "ipython",
    "version": 3
   },
   "file_extension": ".py",
   "mimetype": "text/x-python",
   "name": "python",
   "nbconvert_exporter": "python",
   "pygments_lexer": "ipython3",
   "version": "3.6.2"
  }
 },
 "nbformat": 4,
 "nbformat_minor": 2
}
